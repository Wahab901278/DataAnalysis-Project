{
 "cells": [
  {
   "cell_type": "code",
   "execution_count": 2,
   "id": "e8ff5fcb",
   "metadata": {},
   "outputs": [],
   "source": [
    "import requests # you need this module to make an API call\n",
    "import pandas as pd"
   ]
  },
  {
   "cell_type": "code",
   "execution_count": 5,
   "id": "faf56c0a",
   "metadata": {},
   "outputs": [],
   "source": [
    "api_url = \"http://api.open-notify.org/astros.json\""
   ]
  },
  {
   "cell_type": "code",
   "execution_count": 6,
   "id": "e742106e",
   "metadata": {},
   "outputs": [],
   "source": [
    "response = requests.get(api_url) "
   ]
  },
  {
   "cell_type": "code",
   "execution_count": 7,
   "id": "581a10fe",
   "metadata": {},
   "outputs": [],
   "source": [
    "if response.ok:            \n",
    "    data = response.json()  "
   ]
  },
  {
   "cell_type": "code",
   "execution_count": 8,
   "id": "d611ca84",
   "metadata": {},
   "outputs": [
    {
     "name": "stdout",
     "output_type": "stream",
     "text": [
      "{'message': 'success', 'people': [{'name': 'Jasmin Moghbeli', 'craft': 'ISS'}, {'name': 'Andreas Mogensen', 'craft': 'ISS'}, {'name': 'Satoshi Furukawa', 'craft': 'ISS'}, {'name': 'Konstantin Borisov', 'craft': 'ISS'}, {'name': 'Oleg Kononenko', 'craft': 'ISS'}, {'name': 'Nikolai Chub', 'craft': 'ISS'}, {'name': \"Loral O'Hara\", 'craft': 'ISS'}], 'number': 7}\n"
     ]
    }
   ],
   "source": [
    "print(data)  "
   ]
  },
  {
   "cell_type": "code",
   "execution_count": 9,
   "id": "fcd23a40",
   "metadata": {},
   "outputs": [
    {
     "name": "stdout",
     "output_type": "stream",
     "text": [
      "7\n"
     ]
    }
   ],
   "source": [
    "print(data.get('number'))"
   ]
  },
  {
   "cell_type": "code",
   "execution_count": 10,
   "id": "0c906f9e",
   "metadata": {},
   "outputs": [
    {
     "name": "stdout",
     "output_type": "stream",
     "text": [
      "There are 7 astronauts on ISS\n",
      "And their names are :\n",
      "Jasmin Moghbeli\n",
      "Andreas Mogensen\n",
      "Satoshi Furukawa\n",
      "Konstantin Borisov\n",
      "Oleg Kononenko\n",
      "Nikolai Chub\n",
      "Loral O'Hara\n"
     ]
    }
   ],
   "source": [
    "astronauts = data.get('people')\n",
    "print(\"There are {} astronauts on ISS\".format(len(astronauts)))\n",
    "print(\"And their names are :\")\n",
    "for astronaut in astronauts:\n",
    "    print(astronaut.get('name'))"
   ]
  },
  {
   "cell_type": "code",
   "execution_count": 11,
   "id": "9e1e1e27",
   "metadata": {},
   "outputs": [
    {
     "name": "stdout",
     "output_type": "stream",
     "text": [
      "[{'name': 'Jasmin Moghbeli', 'craft': 'ISS'}, {'name': 'Andreas Mogensen', 'craft': 'ISS'}, {'name': 'Satoshi Furukawa', 'craft': 'ISS'}, {'name': 'Konstantin Borisov', 'craft': 'ISS'}, {'name': 'Oleg Kononenko', 'craft': 'ISS'}, {'name': 'Nikolai Chub', 'craft': 'ISS'}, {'name': \"Loral O'Hara\", 'craft': 'ISS'}]\n"
     ]
    }
   ],
   "source": [
    "print(astronauts)"
   ]
  },
  {
   "cell_type": "code",
   "execution_count": 12,
   "id": "58b464b4",
   "metadata": {},
   "outputs": [],
   "source": [
    "#Import required libraries\n",
    "import pandas as pd\n",
    "import json"
   ]
  },
  {
   "cell_type": "code",
   "execution_count": 13,
   "id": "1232e2a8",
   "metadata": {},
   "outputs": [],
   "source": [
    "\n",
    "def get_number_of_jobs_T(technology):\n",
    "    api_url=\"https://cf-courses-data.s3.us.cloud-object-storage.appdomain.cloud/IBM-DA0321EN-SkillsNetwork/labs/module%201/Accessing%20Data%20Using%20APIs/jobs.json\"\n",
    "    response=requests.get(api_url)\n",
    "    list=response.json()\n",
    "    if response.status_code==200:\n",
    "        number_of_jobs=0\n",
    "        for dictionary in list:\n",
    "            if technology.lower() in dictionary['Key Skills'].lower():\n",
    "                number_of_jobs=number_of_jobs + 1\n",
    "    else:\n",
    "        print(\"-1\")\n",
    "    #your code goes here\n",
    "    return technology,number_of_jobs"
   ]
  },
  {
   "cell_type": "code",
   "execution_count": 14,
   "id": "49a0fda6",
   "metadata": {},
   "outputs": [],
   "source": [
    "def get_number_of_jobs_L(location):\n",
    "    api_url=\"https://cf-courses-data.s3.us.cloud-object-storage.appdomain.cloud/IBM-DA0321EN-SkillsNetwork/labs/module%201/Accessing%20Data%20Using%20APIs/jobs.json\"\n",
    "    response=requests.get(api_url)\n",
    "    list=response.json()\n",
    "    if response.status_code==200:\n",
    "        number_of_jobs=0\n",
    "        for dictionary in list:\n",
    "            if location.lower() in dictionary['Location'].lower():\n",
    "                number_of_jobs=number_of_jobs + 1\n",
    "            \n",
    "    else:\n",
    "        print(\"-1\")\n",
    "    #your code goes here\n",
    "    return location,number_of_jobs"
   ]
  },
  {
   "cell_type": "code",
   "execution_count": 15,
   "id": "baea68a1",
   "metadata": {},
   "outputs": [
    {
     "data": {
      "text/plain": [
       "('Project management', 827)"
      ]
     },
     "execution_count": 15,
     "metadata": {},
     "output_type": "execute_result"
    }
   ],
   "source": [
    "get_number_of_jobs_T(\"Project management\")"
   ]
  },
  {
   "cell_type": "code",
   "execution_count": null,
   "id": "faae609b",
   "metadata": {},
   "outputs": [],
   "source": [
    "#your code goes here\n",
    "get_number_of_jobs_L(\"Los Angeles\")"
   ]
  },
  {
   "cell_type": "code",
   "execution_count": null,
   "id": "d7025c4c",
   "metadata": {},
   "outputs": [],
   "source": [
    "\n",
    "\"\"\"\n",
    "from openpyxl import Workbook        # import Workbook class from module openpyxl\n",
    "wb=Workbook()                        # create a workbook object\n",
    "ws=wb.active                         # use the active worksheet\n",
    "ws.append(['Country','Continent'])   # add a row with two columns 'Country' and 'Continent'\n",
    "ws.append(['Eygpt','Africa'])        # add a row with two columns 'Egypt' and 'Africa'\n",
    "ws.append(['India','Asia'])          # add another row\n",
    "ws.append(['France','Europe'])       # add another row\n",
    "wb.save(\"countries.xlsx\")            # save the workbook into a file called countries.xlsx\n",
    "\n",
    "\n",
    "\"\"\""
   ]
  },
  {
   "cell_type": "code",
   "execution_count": null,
   "id": "80dfeedb",
   "metadata": {},
   "outputs": [],
   "source": [
    "for i in set_of_locations:\n",
    "    print(list(get_number_of_jobs_L(i)))"
   ]
  },
  {
   "cell_type": "code",
   "execution_count": null,
   "id": "1307b7a4",
   "metadata": {},
   "outputs": [],
   "source": [
    "# your code goes here\n",
    "from openpyxl import Workbook        # import Workbook class from module openpyxl\n"
   ]
  },
  {
   "cell_type": "code",
   "execution_count": null,
   "id": "bfb1e902",
   "metadata": {},
   "outputs": [],
   "source": [
    "# your code goes here\n",
    "wb=Workbook()\n",
    "ws=wb.active"
   ]
  },
  {
   "cell_type": "code",
   "execution_count": null,
   "id": "ddcc2f90",
   "metadata": {},
   "outputs": [],
   "source": [
    "#your code goes here\n",
    "ws.append(['Location','No of Jobs'])\n",
    "for i in set_of_locations:\n",
    "    ws.append(list(get_number_of_jobs_L(i)))\n",
    "\n"
   ]
  },
  {
   "cell_type": "code",
   "execution_count": null,
   "id": "fd5e7161",
   "metadata": {},
   "outputs": [],
   "source": [
    "#your code goes here\n",
    "wb.save(\"job-postings.xlsx\")"
   ]
  },
  {
   "cell_type": "code",
   "execution_count": null,
   "id": "d3154894",
   "metadata": {},
   "outputs": [],
   "source": [
    "new_wb=Workbook()\n",
    "ws=new_wb.active\n"
   ]
  },
  {
   "cell_type": "code",
   "execution_count": null,
   "id": "091591ee",
   "metadata": {},
   "outputs": [],
   "source": [
    "# your code goes here\n",
    "skills=['C',\n",
    "'C#',\n",
    "'C++',\n",
    "'Java',\n",
    "'JavaScript',\n",
    "'Python',\n",
    "'Scala',\n",
    "'Oracle',\n",
    "'SQL Server',\n",
    "'MySQL Server',\n",
    "'PostgreSQL',\n",
    "'MongoDB']\n",
    "ws.append(['skill','no of jobs'])\n",
    "for skill in skills:\n",
    "    ws.append(list(get_number_of_jobs_T(skill)))"
   ]
  },
  {
   "cell_type": "code",
   "execution_count": null,
   "id": "f8ad2872",
   "metadata": {},
   "outputs": [],
   "source": [
    "wb.save(\"skills.xlsx\")"
   ]
  },
  {
   "cell_type": "code",
   "execution_count": null,
   "id": "1a52b8ca",
   "metadata": {},
   "outputs": [],
   "source": []
  }
 ],
 "metadata": {
  "kernelspec": {
   "display_name": "Python 3 (ipykernel)",
   "language": "python",
   "name": "python3"
  },
  "language_info": {
   "codemirror_mode": {
    "name": "ipython",
    "version": 3
   },
   "file_extension": ".py",
   "mimetype": "text/x-python",
   "name": "python",
   "nbconvert_exporter": "python",
   "pygments_lexer": "ipython3",
   "version": "3.11.5"
  }
 },
 "nbformat": 4,
 "nbformat_minor": 5
}
