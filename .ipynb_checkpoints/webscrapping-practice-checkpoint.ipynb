{
 "cells": [
  {
   "cell_type": "code",
   "execution_count": 1,
   "id": "ffd6ccd1",
   "metadata": {},
   "outputs": [],
   "source": [
    "import requests\n",
    "from bs4 import BeautifulSoup"
   ]
  },
  {
   "cell_type": "code",
   "execution_count": 2,
   "id": "b042bbd0",
   "metadata": {},
   "outputs": [],
   "source": [
    "url= \"https://www.spotify.com/\""
   ]
  },
  {
   "cell_type": "code",
   "execution_count": 3,
   "id": "96b67be5",
   "metadata": {},
   "outputs": [],
   "source": [
    "response=requests.get(url).text"
   ]
  },
  {
   "cell_type": "code",
   "execution_count": 4,
   "id": "6096a133",
   "metadata": {},
   "outputs": [
    {
     "data": {
      "text/plain": [
       "'<!doctype html><html class=\"mobile-web-player\" lang=\"en\" dir=\"ltr\"><head><meta charSet=\"utf-8\"/><title>Spotify - Web Player: Music for everyone</title><meta property=\"og:site_name\" content=\"Spotify\"/><meta property=\"fb:app_id\" content=\"174829003346\"/><link rel=\"icon\" sizes=\"32x32\" type=\"image/png\" href=\"https://open.spotifycdn.com/cdn/images/favicon32.b64ecc03.png\"/><link rel=\"icon\" sizes=\"16x16\" type=\"image/png\" href=\"https://open.spotifycdn.com/cdn/images/favicon16.1c487bff.png\"/><link rel=\"icon\" href=\"https://open.spotifycdn.com/cdn/images/favicon.0f31d2ea.ico\"/><meta http-equiv=\"X-UA-Compatible\" content=\"IE=9\"/><meta name=\"viewport\" content=\"width=device-width, initial-scale=1\"/><link rel=\"preload\" href=\"https://encore.scdn.co/fonts/CircularSp-Book-a00e99ef9996a3a157fb6b746856d04f.woff2\" as=\"font\" type=\"font/woff2\" crossorigin=\"anonymous\"/><link rel=\"preload\" href=\"https://encore.scdn.co/fonts/CircularSpTitle-Bold-b2586b06a2e1522e9d879d84c2792a58.woff2\" as=\"font\" type=\"font/woff2\" crossorigin=\"anonymous\"/><link rel=\"preload\" href=\"https://encore.scdn.co/fonts/CircularSp-Bold-602e7aefc706aa36c6ec1324b9bbc461.woff2\" as=\"font\" type=\"font/woff2\" crossorigin=\"anonymous\"/><link rel=\"preload\" href=\"https://encore.scdn.co/fonts/CircularSpTitle-Black-4588c99025b967475c31695b0743dd1a.woff2\" as=\"font\" type=\"font/woff2\" crossorigin=\"anonymous\"/><meta name=\"description\" content=\"Spotify is a digital music service that gives you access to millions of songs.\"/><meta name=\"google\" content=\"notranslate\"/><meta property=\"og:title\" content=\"Spotify - Web Player: Music for everyone\"/><meta property=\"og:description\" content=\"Spotify is a digital music service that gives you access to millions of songs.\"/><meta property=\"og:url\" content=\"https://open.spotify.com/\"/><meta property=\"og:type\" content=\"website\"/><meta property=\"og:site_name\" content=\"Spotify\"/><meta property=\"og:image\" content=\"https://open.spotifycdn.com/cdn/images/og-image.548bc4b7.png\"/><meta name=\"al:android:app_name\" content=\"Spotify\"/><meta name=\"al:android:package\" content=\"com.spotify.music\"/><meta name=\"al:android:url\" content=\"spotify://\"/><meta name=\"al:ios:app_name\" content=\"Spotify\"/><meta name=\"al:ios:app_store_id\" content=\"324684580\"/><meta name=\"al:ios:url\" content=\"spotify://\"/><meta name=\"twitter:site\" content=\"@spotify\"/><meta name=\"twitter:title\" content=\"Spotify - Web Player: Music for everyone\"/><meta name=\"twitter:description\" content=\"Spotify is a digital music service that gives you access to millions of songs.\"/><meta name=\"twitter:image\" content=\"https://open.spotifycdn.com/cdn/images/og-image.548bc4b7.png\"/><meta name=\"twitter:card\" content=\"summary\"/><link rel=\"canonical\" href=\"https://open.spotify.com\"/><link rel=\"alternate\" href=\"https://open.spotify.com\" hrefLang=\"x-default\"/><link rel=\"alternate\" href=\"https://open.spotify.com\" hrefLang=\"en\"/><link rel=\"alternate\" href=\"https://open.spotify.com/intl-id\" hrefLang=\"id\"/><link rel=\"alternate\" href=\"https://open.spotify.com/intl-de\" hrefLang=\"de\"/><link rel=\"alternate\" href=\"https://open.spotify.com/intl-pt\" hrefLang=\"pt\"/><link rel=\"alternate\" href=\"https://open.spotify.com/intl-ja\" hrefLang=\"ja\"/><link rel=\"alternate\" href=\"https://open.spotify.com/intl-fr\" hrefLang=\"fr\"/><link rel=\"alternate\" href=\"https://open.spotify.com/intl-ar\" hrefLang=\"ar\"/><link rel=\"alternate\" href=\"https://open.spotify.com/intl-es\" hrefLang=\"es\"/><link rel=\"alternate\" href=\"https://open.spotify.com/intl-tr\" hrefLang=\"tr\"/><link rel=\"alternate\" href=\"https://open.spotify.com/intl-it\" hrefLang=\"it\"/><link rel=\"alternate\" href=\"android-app://com.spotify.music/\"/><link rel=\"manifest\" href=\"https://open.spotifycdn.com/cdn/generated/manifest-mobile-web-player.a1ddf51c.json\"/><style data-styled=\"active\"></style><style data-styled=\"\" data-styled-version=\"5.3.11\">.brBhTX{fill:var(--essential-base,#000000);-webkit-animation:oaGcb 1.32s linear infinite;animation:oaGcb 1.32s linear infinite;-webkit-transform-origin:center;-ms-transform-origin:center;transform-origin:center;}/*!sc*/\\n.brBhTX:nth-of-type(2){-webkit-animation-delay:0.1s;animation-delay:0.1s;}/*!sc*/\\n.brBhTX:nth-of-type(3){-webkit-animation-delay:0.2s;animation-delay:0.2s;}/*!sc*/\\n[dir=\\'rtl\\'] .ProgressDot-sc-734kfk-0:nth-of-type(1){-webkit-animation-delay:0.2s;animation-delay:0.2s;}/*!sc*/\\n[dir=\\'rtl\\'] .ProgressDot-sc-734kfk-0:nth-of-type(3){-webkit-animation-delay:0s;animation-delay:0s;}/*!sc*/\\ndata-styled.g10[id=\"ProgressDot-sc-734kfk-0\"]{content:\"brBhTX,\"}/*!sc*/\\n.jJQUFy{content:\\'\\';-webkit-block-size:18.666666666666668px;-ms-flex-block-size:18.666666666666668px;block-size:18.666666666666668px;inline-size:84px;}/*!sc*/\\ndata-styled.g11[id=\"ProgressDotsSvg-sc-18dhrwh-0\"]{content:\"jJQUFy,\"}/*!sc*/\\n@-webkit-keyframes oaGcb{0%{-webkit-animation-timing-function:cubic-bezier(1,0,0.7,1);animation-timing-function:cubic-bezier(1,0,0.7,1);opacity:0.5;-webkit-transform:scale(1);-ms-transform:scale(1);transform:scale(1);}40%{-webkit-animation-timing-function:cubic-bezier(0.3,0,0,1);animation-timing-function:cubic-bezier(0.3,0,0,1);opacity:0.75;-webkit-transform:scale(1.3);-ms-transform:scale(1.3);transform:scale(1.3);}72.5%{-webkit-animation-timing-function:linear;animation-timing-function:linear;opacity:0.5;-webkit-transform:scale(1);-ms-transform:scale(1);transform:scale(1);}100%{opacity:0.5;-webkit-transform:scale(1);-ms-transform:scale(1);transform:scale(1);}}/*!sc*/\\n@keyframes oaGcb{0%{-webkit-animation-timing-function:cubic-bezier(1,0,0.7,1);animation-timing-function:cubic-bezier(1,0,0.7,1);opacity:0.5;-webkit-transform:scale(1);-ms-transform:scale(1);transform:scale(1);}40%{-webkit-animation-timing-function:cubic-bezier(0.3,0,0,1);animation-timing-function:cubic-bezier(0.3,0,0,1);opacity:0.75;-webkit-transform:scale(1.3);-ms-transform:scale(1.3);transform:scale(1.3);}72.5%{-webkit-animation-timing-function:linear;animation-timing-function:linear;opacity:0.5;-webkit-transform:scale(1);-ms-transform:scale(1);transform:scale(1);}100%{opacity:0.5;-webkit-transform:scale(1);-ms-transform:scale(1);transform:scale(1);}}/*!sc*/\\ndata-styled.g91[id=\"sc-keyframes-oaGcb\"]{content:\"oaGcb,\"}/*!sc*/\\n</style><link rel=\"stylesheet\" href=\"https://open.spotifycdn.com/cdn/build/mobile-web-player/mwp-home-page.2240c4cb.css\"/><link rel=\"stylesheet\" href=\"https://open.spotifycdn.com/cdn/build/mobile-web-player/mwp-dialog-container.06a35f54.css\"/><link rel=\"stylesheet\" href=\"https://open.spotifycdn.com/cdn/build/mobile-web-player/mwp-context-menu-container.77358db6.css\"/><link rel=\"stylesheet\" href=\"https://open.spotifycdn.com/cdn/build/mobile-web-player/mobile-web-player.90174c43.css\"/><link rel=\"preconnect\" href=\"https://apresolve.spotify.com\" crossorigin=\"anonymous\"/><link rel=\"preconnect\" href=\"https://clienttoken.spotify.com\" crossorigin=\"anonymous\"/><link rel=\"preconnect\" href=\"https://api-partner.spotify.com\" crossorigin=\"anonymous\"/><link rel=\"preconnect\" href=\"https://spclient.wg.spotify.com\" crossorigin=\"anonymous\"/><link rel=\"preconnect\" href=\"https://api.spotify.com\" crossorigin=\"anonymous\"/><link rel=\"preconnect\" href=\"https://daily-mix.scdn.co\" crossorigin=\"anonymous\"/><link rel=\"preconnect\" href=\"https://exp.wg.spotify.com\" crossorigin=\"anonymous\"/><link rel=\"preconnect\" href=\"https://i.scdn.co\" crossorigin=\"anonymous\"/><link rel=\"preconnect\" href=\"https://lineup-images.scdn.co\" crossorigin=\"anonymous\"/><link rel=\"preconnect\" href=\"https://mosaic.scdn.co\" crossorigin=\"anonymous\"/><link rel=\"preconnect\" href=\"https://open.spotifycdn.com\" crossorigin=\"anonymous\"/><link rel=\"preconnect\" href=\"https://pixel-static.spotify.com\" crossorigin=\"anonymous\"/><link rel=\"preconnect\" href=\"https://pixel.spotify.com\" crossorigin=\"anonymous\"/><link rel=\"preconnect\" href=\"https://pl.scdn.co\" crossorigin=\"anonymous\"/><link rel=\"preconnect\" href=\"https://open.spotifycdn.com\" crossorigin=\"anonymous\"/><link rel=\"preconnect\" href=\"https://gew1-dealer.spotify.com\" crossorigin=\"anonymous\"/><link rel=\"preconnect\" href=\"https://gew1-spclient.spotify.com\" crossorigin=\"anonymous\"/><link rel=\"preload\" href=\"https://open.spotifycdn.com/cdn/generated-locales/mobile-web-player/en.79ef5099.json\" data-translations-url-for-locale=\"en\" as=\"fetch\" crossorigin=\"anonymous\" type=\"application/json\"/><link rel=\"search\" type=\"application/opensearchdescription+xml\" title=\"Spotify\" href=\"https://open.spotifycdn.com/cdn/generated/opensearch.4cd8879e.xml\"/><script defer=\"\" src=\"https://www.googleoptimize.com/optimize.js?id=GTM-W53X654\"></script><script defer=\"\" src=\"https://open.spotifycdn.com/cdn/js/gtm.ea4c34bc.js\"></script><script defer=\"\" src=\"https://open.spotifycdn.com/cdn/js/retargeting-pixels.5ab9cdc0.js\"></script></head><body class=\"mobile-web-player\"><script id=\"config\" data-testid=\"config\" type=\"application/json\">{\"appName\":\"web_player_prototype\",\"market\":\"PK\",\"locale\":{\"locale\":\"en\",\"rtl\":false,\"textDirection\":\"ltr\"},\"isPremium\":false,\"correlationId\":\"d1a0e37b4bc71e0c81ab395ce7fe18d9\",\"isAnonymous\":true,\"gtmId\":\"GTM-PZHN3VD\",\"optimizeId\":\"GTM-W53X654\",\"pipResources\":{\"scripts\":[\"https://open.spotifycdn.com/cdn/build/web-player/vendor~web-player.10d86130.js\",\"https://open.spotifycdn.com/cdn/build/web-player/pip-mini-player.f27ddf55.js\"],\"styles\":[\"https://open.spotifycdn.com/cdn/build/web-player/vendor~web-player.c0f32a91.css\",\"https://open.spotifycdn.com/cdn/build/web-player/pip-mini-player.d685a509.css\"]},\"retargetingPixels\":null,\"recaptchaWebPlayerFraudSiteKey\":\"6LfCVLAUAAAAALFwwRnnCJ12DalriUGbj8FW_J39\"}</script><script id=\"session\" data-testid=\"session\" type=\"application/json\">{\"accessToken\":\"BQCdUGmVjH4-QMvlX08o_qB7q84PzKNjvzKhtGXB83pw-yL6ubNZNblgMdTFonm7mKcmNnyU2N7w-6Fu-vmrGvtXmT0vvA0oAN3-5Go_QHFTPPsMs58\",\"accessTokenExpirationTimestampMs\":1713786671203,\"isAnonymous\":true,\"clientId\":\"f6a40776580943a7bc5173125a1e8832\"}</script><div id=\"main\" data-ssr=\"1\"><!--$--><div class=\"encore-layout-themes\"><div class=\"ufy3rNNsNBx6IOixSXEG\"><div class=\"encore-dark-theme xXxkvFpB54Fne7ykRnXa\" data-main-scrollable-node=\"true\"><div class=\"Cv2QMWaKhio30Ly6ooMy\"><div class=\"SAvutxFsWpINsq8pSOqb\" style=\"--bottomMargin:0px\"><!--$--><div class=\"XOErnGrVFhfEECdqd8pQ\"><svg xmlns=\"http://www.w3.org/2000/svg\" x=\"0px\" y=\"0px\" viewBox=\"0 0 1 100\" xml:space=\"preserve\" role=\"progressbar\" aria-valuetext=\"Just a moment...\" data-testid=\"loading-indicator\" aria-label=\"Just a moment...\" data-encore-id=\"progressDots\" class=\"ProgressDotsSvg-sc-18dhrwh-0 jJQUFy\"><circle stroke=\"none\" cx=\"-140\" cy=\"50\" r=\"32\" class=\"ProgressDot-sc-734kfk-0 brBhTX\"></circle><circle stroke=\"none\" cx=\"0\" cy=\"50\" r=\"32\" class=\"ProgressDot-sc-734kfk-0 brBhTX\"></circle><circle stroke=\"none\" cx=\"140\" cy=\"50\" r=\"32\" class=\"ProgressDot-sc-734kfk-0 brBhTX\"></circle></svg></div><!--/$--><div></div></div><div class=\"LQ6Ss79CdgHw2ScSPflQ\"></div><!--$--><!--/$--><!--$--><!--/$--></div></div></div><aside class=\"encore-dark-theme Yg_FlRTSnjxmfwyAvnFJ\"><div></div></aside></div><!--/$--></div><script id=\"initial-state\" type=\"text/plain\">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</script><script id=\"remote-configuration\" type=\"text/plain\">eyIjdiI6IjEiLCJlbmFibGVQbGF5bGlzdEludGVybmFsTGlua3MiOiJjb250cm9sIiwiZW5hYmxlQXVkaW9ib29rc0dhdGVkRXhwZXJpZW5jZSI6dHJ1ZSwiZW5hYmxlSTE4blJvdXRlcyI6InZhcmlhbnQiLCJlbmFibGVXcmFwcGVkQmFubmVyIjp0cnVlLCJlbmFibGVDb25jZXJ0c1Nob3dBbGxFdmVudHNDb3B5TVdQIjp0cnVlLCJlbmFibGVDb25jZXJ0UGFnZVBhdGhmaW5kZXJNV1AiOnRydWUsImVuYWJsZUNvbmNlcnRMaW5rVG9NZXRyb0FyZWEiOnRydWUsIiNjb25maWd1cmF0aW9uQXNzaWdubWVudElkIjoiZGYwYTUwMzYtMmI2ZC00NDg0LTI4OWEtZTAyZDgzMWVkNTA4IiwiI2dyb3VwSWRzIjp7ImVuYWJsZVBsYXlsaXN0SW50ZXJuYWxMaW5rcyI6MTE1NTMzMCwiZW5hYmxlQXVkaW9ib29rc0dhdGVkRXhwZXJpZW5jZSI6MTA2ODczMiwiZW5hYmxlSTE4blJvdXRlcyI6MTEwMjY2MSwiZW5hYmxlV3JhcHBlZEJhbm5lciI6MTE0NTA4OCwiZW5hYmxlQ29uY2VydHNTaG93QWxsRXZlbnRzQ29weU1XUCI6MTE2MDMzNiwiZW5hYmxlQ29uY2VydFBhZ2VQYXRoZmluZGVyTVdQIjoxMTYxNTIyLCJlbmFibGVDb25jZXJ0TGlua1RvTWV0cm9BcmVhIjoxMTYyMzA1fSwiI2ZldGNoVGltZU1pbGxpcyI6MTcxMzc4MzQ4OTgwMiwiI2NvbnRleHRIYXNoIjoiYzQ1YTk1YjQzYTg4ZjU5MSJ9</script><script src=\"https://open.spotifycdn.com/cdn/build/mobile-web-player/mobile-web-player.877beaf4.js\"></script><script src=\"https://open.spotifycdn.com/cdn/build/mobile-web-player/vendor~mobile-web-player.afbf8285.js\"></script></body></html>'"
      ]
     },
     "execution_count": 4,
     "metadata": {},
     "output_type": "execute_result"
    }
   ],
   "source": [
    "response"
   ]
  },
  {
   "cell_type": "code",
   "execution_count": 11,
   "id": "1ac223f2",
   "metadata": {},
   "outputs": [],
   "source": [
    "soup = BeautifulSoup(response,\"lxml\")"
   ]
  },
  {
   "cell_type": "code",
   "execution_count": 12,
   "id": "abd6a738",
   "metadata": {},
   "outputs": [
    {
     "data": {
      "text/plain": [
       "<!DOCTYPE html>\n",
       "<html class=\"mobile-web-player\" dir=\"ltr\" lang=\"en\"><head><meta charset=\"utf-8\"/><title>Spotify - Web Player: Music for everyone</title><meta content=\"Spotify\" property=\"og:site_name\"/><meta content=\"174829003346\" property=\"fb:app_id\"/><link href=\"https://open.spotifycdn.com/cdn/images/favicon32.b64ecc03.png\" rel=\"icon\" sizes=\"32x32\" type=\"image/png\"/><link href=\"https://open.spotifycdn.com/cdn/images/favicon16.1c487bff.png\" rel=\"icon\" sizes=\"16x16\" type=\"image/png\"/><link href=\"https://open.spotifycdn.com/cdn/images/favicon.0f31d2ea.ico\" rel=\"icon\"/><meta content=\"IE=9\" http-equiv=\"X-UA-Compatible\"/><meta content=\"width=device-width, initial-scale=1\" name=\"viewport\"/><link as=\"font\" crossorigin=\"anonymous\" href=\"https://encore.scdn.co/fonts/CircularSp-Book-a00e99ef9996a3a157fb6b746856d04f.woff2\" rel=\"preload\" type=\"font/woff2\"/><link as=\"font\" crossorigin=\"anonymous\" href=\"https://encore.scdn.co/fonts/CircularSpTitle-Bold-b2586b06a2e1522e9d879d84c2792a58.woff2\" rel=\"preload\" type=\"font/woff2\"/><link as=\"font\" crossorigin=\"anonymous\" href=\"https://encore.scdn.co/fonts/CircularSp-Bold-602e7aefc706aa36c6ec1324b9bbc461.woff2\" rel=\"preload\" type=\"font/woff2\"/><link as=\"font\" crossorigin=\"anonymous\" href=\"https://encore.scdn.co/fonts/CircularSpTitle-Black-4588c99025b967475c31695b0743dd1a.woff2\" rel=\"preload\" type=\"font/woff2\"/><meta content=\"Spotify is a digital music service that gives you access to millions of songs.\" name=\"description\"/><meta content=\"notranslate\" name=\"google\"/><meta content=\"Spotify - Web Player: Music for everyone\" property=\"og:title\"/><meta content=\"Spotify is a digital music service that gives you access to millions of songs.\" property=\"og:description\"/><meta content=\"https://open.spotify.com/\" property=\"og:url\"/><meta content=\"website\" property=\"og:type\"/><meta content=\"Spotify\" property=\"og:site_name\"/><meta content=\"https://open.spotifycdn.com/cdn/images/og-image.548bc4b7.png\" property=\"og:image\"/><meta content=\"Spotify\" name=\"al:android:app_name\"/><meta content=\"com.spotify.music\" name=\"al:android:package\"/><meta content=\"spotify://\" name=\"al:android:url\"/><meta content=\"Spotify\" name=\"al:ios:app_name\"/><meta content=\"324684580\" name=\"al:ios:app_store_id\"/><meta content=\"spotify://\" name=\"al:ios:url\"/><meta content=\"@spotify\" name=\"twitter:site\"/><meta content=\"Spotify - Web Player: Music for everyone\" name=\"twitter:title\"/><meta content=\"Spotify is a digital music service that gives you access to millions of songs.\" name=\"twitter:description\"/><meta content=\"https://open.spotifycdn.com/cdn/images/og-image.548bc4b7.png\" name=\"twitter:image\"/><meta content=\"summary\" name=\"twitter:card\"/><link href=\"https://open.spotify.com\" rel=\"canonical\"/><link href=\"https://open.spotify.com\" hreflang=\"x-default\" rel=\"alternate\"/><link href=\"https://open.spotify.com\" hreflang=\"en\" rel=\"alternate\"/><link href=\"https://open.spotify.com/intl-id\" hreflang=\"id\" rel=\"alternate\"/><link href=\"https://open.spotify.com/intl-de\" hreflang=\"de\" rel=\"alternate\"/><link href=\"https://open.spotify.com/intl-pt\" hreflang=\"pt\" rel=\"alternate\"/><link href=\"https://open.spotify.com/intl-ja\" hreflang=\"ja\" rel=\"alternate\"/><link href=\"https://open.spotify.com/intl-fr\" hreflang=\"fr\" rel=\"alternate\"/><link href=\"https://open.spotify.com/intl-ar\" hreflang=\"ar\" rel=\"alternate\"/><link href=\"https://open.spotify.com/intl-es\" hreflang=\"es\" rel=\"alternate\"/><link href=\"https://open.spotify.com/intl-tr\" hreflang=\"tr\" rel=\"alternate\"/><link href=\"https://open.spotify.com/intl-it\" hreflang=\"it\" rel=\"alternate\"/><link href=\"android-app://com.spotify.music/\" rel=\"alternate\"/><link href=\"https://open.spotifycdn.com/cdn/generated/manifest-mobile-web-player.a1ddf51c.json\" rel=\"manifest\"/><style data-styled=\"active\"></style><style data-styled=\"\" data-styled-version=\"5.3.11\">.brBhTX{fill:var(--essential-base,#000000);-webkit-animation:oaGcb 1.32s linear infinite;animation:oaGcb 1.32s linear infinite;-webkit-transform-origin:center;-ms-transform-origin:center;transform-origin:center;}/*!sc*/\n",
       ".brBhTX:nth-of-type(2){-webkit-animation-delay:0.1s;animation-delay:0.1s;}/*!sc*/\n",
       ".brBhTX:nth-of-type(3){-webkit-animation-delay:0.2s;animation-delay:0.2s;}/*!sc*/\n",
       "[dir='rtl'] .ProgressDot-sc-734kfk-0:nth-of-type(1){-webkit-animation-delay:0.2s;animation-delay:0.2s;}/*!sc*/\n",
       "[dir='rtl'] .ProgressDot-sc-734kfk-0:nth-of-type(3){-webkit-animation-delay:0s;animation-delay:0s;}/*!sc*/\n",
       "data-styled.g10[id=\"ProgressDot-sc-734kfk-0\"]{content:\"brBhTX,\"}/*!sc*/\n",
       ".jJQUFy{content:'';-webkit-block-size:18.666666666666668px;-ms-flex-block-size:18.666666666666668px;block-size:18.666666666666668px;inline-size:84px;}/*!sc*/\n",
       "data-styled.g11[id=\"ProgressDotsSvg-sc-18dhrwh-0\"]{content:\"jJQUFy,\"}/*!sc*/\n",
       "@-webkit-keyframes oaGcb{0%{-webkit-animation-timing-function:cubic-bezier(1,0,0.7,1);animation-timing-function:cubic-bezier(1,0,0.7,1);opacity:0.5;-webkit-transform:scale(1);-ms-transform:scale(1);transform:scale(1);}40%{-webkit-animation-timing-function:cubic-bezier(0.3,0,0,1);animation-timing-function:cubic-bezier(0.3,0,0,1);opacity:0.75;-webkit-transform:scale(1.3);-ms-transform:scale(1.3);transform:scale(1.3);}72.5%{-webkit-animation-timing-function:linear;animation-timing-function:linear;opacity:0.5;-webkit-transform:scale(1);-ms-transform:scale(1);transform:scale(1);}100%{opacity:0.5;-webkit-transform:scale(1);-ms-transform:scale(1);transform:scale(1);}}/*!sc*/\n",
       "@keyframes oaGcb{0%{-webkit-animation-timing-function:cubic-bezier(1,0,0.7,1);animation-timing-function:cubic-bezier(1,0,0.7,1);opacity:0.5;-webkit-transform:scale(1);-ms-transform:scale(1);transform:scale(1);}40%{-webkit-animation-timing-function:cubic-bezier(0.3,0,0,1);animation-timing-function:cubic-bezier(0.3,0,0,1);opacity:0.75;-webkit-transform:scale(1.3);-ms-transform:scale(1.3);transform:scale(1.3);}72.5%{-webkit-animation-timing-function:linear;animation-timing-function:linear;opacity:0.5;-webkit-transform:scale(1);-ms-transform:scale(1);transform:scale(1);}100%{opacity:0.5;-webkit-transform:scale(1);-ms-transform:scale(1);transform:scale(1);}}/*!sc*/\n",
       "data-styled.g91[id=\"sc-keyframes-oaGcb\"]{content:\"oaGcb,\"}/*!sc*/\n",
       "</style><link href=\"https://open.spotifycdn.com/cdn/build/mobile-web-player/mwp-home-page.2240c4cb.css\" rel=\"stylesheet\"/><link href=\"https://open.spotifycdn.com/cdn/build/mobile-web-player/mwp-dialog-container.06a35f54.css\" rel=\"stylesheet\"/><link href=\"https://open.spotifycdn.com/cdn/build/mobile-web-player/mwp-context-menu-container.77358db6.css\" rel=\"stylesheet\"/><link href=\"https://open.spotifycdn.com/cdn/build/mobile-web-player/mobile-web-player.90174c43.css\" rel=\"stylesheet\"/><link crossorigin=\"anonymous\" href=\"https://apresolve.spotify.com\" rel=\"preconnect\"/><link crossorigin=\"anonymous\" href=\"https://clienttoken.spotify.com\" rel=\"preconnect\"/><link crossorigin=\"anonymous\" href=\"https://api-partner.spotify.com\" rel=\"preconnect\"/><link crossorigin=\"anonymous\" href=\"https://spclient.wg.spotify.com\" rel=\"preconnect\"/><link crossorigin=\"anonymous\" href=\"https://api.spotify.com\" rel=\"preconnect\"/><link crossorigin=\"anonymous\" href=\"https://daily-mix.scdn.co\" rel=\"preconnect\"/><link crossorigin=\"anonymous\" href=\"https://exp.wg.spotify.com\" rel=\"preconnect\"/><link crossorigin=\"anonymous\" href=\"https://i.scdn.co\" rel=\"preconnect\"/><link crossorigin=\"anonymous\" href=\"https://lineup-images.scdn.co\" rel=\"preconnect\"/><link crossorigin=\"anonymous\" href=\"https://mosaic.scdn.co\" rel=\"preconnect\"/><link crossorigin=\"anonymous\" href=\"https://open.spotifycdn.com\" rel=\"preconnect\"/><link crossorigin=\"anonymous\" href=\"https://pixel-static.spotify.com\" rel=\"preconnect\"/><link crossorigin=\"anonymous\" href=\"https://pixel.spotify.com\" rel=\"preconnect\"/><link crossorigin=\"anonymous\" href=\"https://pl.scdn.co\" rel=\"preconnect\"/><link crossorigin=\"anonymous\" href=\"https://open.spotifycdn.com\" rel=\"preconnect\"/><link crossorigin=\"anonymous\" href=\"https://gew1-dealer.spotify.com\" rel=\"preconnect\"/><link crossorigin=\"anonymous\" href=\"https://gew1-spclient.spotify.com\" rel=\"preconnect\"/><link as=\"fetch\" crossorigin=\"anonymous\" data-translations-url-for-locale=\"en\" href=\"https://open.spotifycdn.com/cdn/generated-locales/mobile-web-player/en.79ef5099.json\" rel=\"preload\" type=\"application/json\"/><link href=\"https://open.spotifycdn.com/cdn/generated/opensearch.4cd8879e.xml\" rel=\"search\" title=\"Spotify\" type=\"application/opensearchdescription+xml\"/><script defer=\"\" src=\"https://www.googleoptimize.com/optimize.js?id=GTM-W53X654\"></script><script defer=\"\" src=\"https://open.spotifycdn.com/cdn/js/gtm.ea4c34bc.js\"></script><script defer=\"\" src=\"https://open.spotifycdn.com/cdn/js/retargeting-pixels.5ab9cdc0.js\"></script></head><body class=\"mobile-web-player\"><script data-testid=\"config\" id=\"config\" type=\"application/json\">{\"appName\":\"web_player_prototype\",\"market\":\"PK\",\"locale\":{\"locale\":\"en\",\"rtl\":false,\"textDirection\":\"ltr\"},\"isPremium\":false,\"correlationId\":\"d1a0e37b4bc71e0c81ab395ce7fe18d9\",\"isAnonymous\":true,\"gtmId\":\"GTM-PZHN3VD\",\"optimizeId\":\"GTM-W53X654\",\"pipResources\":{\"scripts\":[\"https://open.spotifycdn.com/cdn/build/web-player/vendor~web-player.10d86130.js\",\"https://open.spotifycdn.com/cdn/build/web-player/pip-mini-player.f27ddf55.js\"],\"styles\":[\"https://open.spotifycdn.com/cdn/build/web-player/vendor~web-player.c0f32a91.css\",\"https://open.spotifycdn.com/cdn/build/web-player/pip-mini-player.d685a509.css\"]},\"retargetingPixels\":null,\"recaptchaWebPlayerFraudSiteKey\":\"6LfCVLAUAAAAALFwwRnnCJ12DalriUGbj8FW_J39\"}</script><script data-testid=\"session\" id=\"session\" type=\"application/json\">{\"accessToken\":\"BQCdUGmVjH4-QMvlX08o_qB7q84PzKNjvzKhtGXB83pw-yL6ubNZNblgMdTFonm7mKcmNnyU2N7w-6Fu-vmrGvtXmT0vvA0oAN3-5Go_QHFTPPsMs58\",\"accessTokenExpirationTimestampMs\":1713786671203,\"isAnonymous\":true,\"clientId\":\"f6a40776580943a7bc5173125a1e8832\"}</script><div data-ssr=\"1\" id=\"main\"><!--$--><div class=\"encore-layout-themes\"><div class=\"ufy3rNNsNBx6IOixSXEG\"><div class=\"encore-dark-theme xXxkvFpB54Fne7ykRnXa\" data-main-scrollable-node=\"true\"><div class=\"Cv2QMWaKhio30Ly6ooMy\"><div class=\"SAvutxFsWpINsq8pSOqb\" style=\"--bottomMargin:0px\"><!--$--><div class=\"XOErnGrVFhfEECdqd8pQ\"><svg aria-label=\"Just a moment...\" aria-valuetext=\"Just a moment...\" class=\"ProgressDotsSvg-sc-18dhrwh-0 jJQUFy\" data-encore-id=\"progressDots\" data-testid=\"loading-indicator\" role=\"progressbar\" viewbox=\"0 0 1 100\" x=\"0px\" xml:space=\"preserve\" xmlns=\"http://www.w3.org/2000/svg\" y=\"0px\"><circle class=\"ProgressDot-sc-734kfk-0 brBhTX\" cx=\"-140\" cy=\"50\" r=\"32\" stroke=\"none\"></circle><circle class=\"ProgressDot-sc-734kfk-0 brBhTX\" cx=\"0\" cy=\"50\" r=\"32\" stroke=\"none\"></circle><circle class=\"ProgressDot-sc-734kfk-0 brBhTX\" cx=\"140\" cy=\"50\" r=\"32\" stroke=\"none\"></circle></svg></div><!--/$--><div></div></div><div class=\"LQ6Ss79CdgHw2ScSPflQ\"></div><!--$--><!--/$--><!--$--><!--/$--></div></div></div><aside class=\"encore-dark-theme Yg_FlRTSnjxmfwyAvnFJ\"><div></div></aside></div><!--/$--></div><script id=\"initial-state\" type=\"text/plain\">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</script><script id=\"remote-configuration\" type=\"text/plain\">eyIjdiI6IjEiLCJlbmFibGVQbGF5bGlzdEludGVybmFsTGlua3MiOiJjb250cm9sIiwiZW5hYmxlQXVkaW9ib29rc0dhdGVkRXhwZXJpZW5jZSI6dHJ1ZSwiZW5hYmxlSTE4blJvdXRlcyI6InZhcmlhbnQiLCJlbmFibGVXcmFwcGVkQmFubmVyIjp0cnVlLCJlbmFibGVDb25jZXJ0c1Nob3dBbGxFdmVudHNDb3B5TVdQIjp0cnVlLCJlbmFibGVDb25jZXJ0UGFnZVBhdGhmaW5kZXJNV1AiOnRydWUsImVuYWJsZUNvbmNlcnRMaW5rVG9NZXRyb0FyZWEiOnRydWUsIiNjb25maWd1cmF0aW9uQXNzaWdubWVudElkIjoiZGYwYTUwMzYtMmI2ZC00NDg0LTI4OWEtZTAyZDgzMWVkNTA4IiwiI2dyb3VwSWRzIjp7ImVuYWJsZVBsYXlsaXN0SW50ZXJuYWxMaW5rcyI6MTE1NTMzMCwiZW5hYmxlQXVkaW9ib29rc0dhdGVkRXhwZXJpZW5jZSI6MTA2ODczMiwiZW5hYmxlSTE4blJvdXRlcyI6MTEwMjY2MSwiZW5hYmxlV3JhcHBlZEJhbm5lciI6MTE0NTA4OCwiZW5hYmxlQ29uY2VydHNTaG93QWxsRXZlbnRzQ29weU1XUCI6MTE2MDMzNiwiZW5hYmxlQ29uY2VydFBhZ2VQYXRoZmluZGVyTVdQIjoxMTYxNTIyLCJlbmFibGVDb25jZXJ0TGlua1RvTWV0cm9BcmVhIjoxMTYyMzA1fSwiI2ZldGNoVGltZU1pbGxpcyI6MTcxMzc4MzQ4OTgwMiwiI2NvbnRleHRIYXNoIjoiYzQ1YTk1YjQzYTg4ZjU5MSJ9</script><script src=\"https://open.spotifycdn.com/cdn/build/mobile-web-player/mobile-web-player.877beaf4.js\"></script><script src=\"https://open.spotifycdn.com/cdn/build/mobile-web-player/vendor~mobile-web-player.afbf8285.js\"></script></body></html>"
      ]
     },
     "execution_count": 12,
     "metadata": {},
     "output_type": "execute_result"
    }
   ],
   "source": [
    "soup"
   ]
  },
  {
   "cell_type": "code",
   "execution_count": 56,
   "id": "5f5aa409",
   "metadata": {},
   "outputs": [
    {
     "name": "stdout",
     "output_type": "stream",
     "text": [
      "https://open.spotifycdn.com/cdn/images/favicon32.b64ecc03.png\n",
      "https://open.spotifycdn.com/cdn/images/favicon16.1c487bff.png\n",
      "https://open.spotifycdn.com/cdn/images/favicon.0f31d2ea.ico\n",
      "https://lineup-images.scdn.co\n"
     ]
    }
   ],
   "source": [
    "for links in soup.find_all(\"link\"):\n",
    "    hrefs=links.get('href')\n",
    "    if \"images\" in hrefs:\n",
    "        print(hrefs)\n",
    "        "
   ]
  },
  {
   "cell_type": "code",
   "execution_count": 67,
   "id": "39496dae",
   "metadata": {},
   "outputs": [
    {
     "name": "stdout",
     "output_type": "stream",
     "text": [
      "None\n",
      "Spotify\n",
      "174829003346\n",
      "IE=9\n",
      "width=device-width, initial-scale=1\n",
      "Spotify is a digital music service that gives you access to millions of songs.\n",
      "notranslate\n",
      "Spotify - Web Player: Music for everyone\n",
      "Spotify is a digital music service that gives you access to millions of songs.\n",
      "https://open.spotify.com/\n",
      "website\n",
      "Spotify\n",
      "https://open.spotifycdn.com/cdn/images/og-image.548bc4b7.png\n",
      "Spotify\n",
      "com.spotify.music\n",
      "spotify://\n",
      "Spotify\n",
      "324684580\n",
      "spotify://\n",
      "@spotify\n",
      "Spotify - Web Player: Music for everyone\n",
      "Spotify is a digital music service that gives you access to millions of songs.\n",
      "https://open.spotifycdn.com/cdn/images/og-image.548bc4b7.png\n",
      "summary\n"
     ]
    }
   ],
   "source": [
    "for i in soup.find_all(\"meta\"):\n",
    "     print(i.get('content'))     "
   ]
  },
  {
   "cell_type": "code",
   "execution_count": null,
   "id": "3d05b7e1",
   "metadata": {},
   "outputs": [],
   "source": []
  }
 ],
 "metadata": {
  "kernelspec": {
   "display_name": "Python 3 (ipykernel)",
   "language": "python",
   "name": "python3"
  },
  "language_info": {
   "codemirror_mode": {
    "name": "ipython",
    "version": 3
   },
   "file_extension": ".py",
   "mimetype": "text/x-python",
   "name": "python",
   "nbconvert_exporter": "python",
   "pygments_lexer": "ipython3",
   "version": "3.11.5"
  }
 },
 "nbformat": 4,
 "nbformat_minor": 5
}
