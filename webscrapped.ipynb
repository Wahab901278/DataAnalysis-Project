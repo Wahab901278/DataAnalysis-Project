{
 "cells": [
  {
   "cell_type": "code",
   "execution_count": 1,
   "id": "c9cd7197-7130-4704-bc1d-192d141ae97a",
   "metadata": {
    "tags": []
   },
   "outputs": [],
   "source": [
    "#this url contains the data you need to scrape\n",
    "url = \"https://cf-courses-data.s3.us.cloud-object-storage.appdomain.cloud/IBM-DA0321EN-SkillsNetwork/labs/datasets/Programming_Languages.html\""
   ]
  },
  {
   "cell_type": "code",
   "execution_count": 2,
   "id": "49729b06-59d1-4580-9792-baa4d25c03b3",
   "metadata": {
    "tags": []
   },
   "outputs": [],
   "source": [
    "# Your code here\n",
    "import requests\n",
    "from bs4 import BeautifulSoup"
   ]
  },
  {
   "cell_type": "code",
   "execution_count": 3,
   "id": "a9189ec4-fe56-4953-886d-d42ddae9d0dd",
   "metadata": {
    "tags": []
   },
   "outputs": [],
   "source": [
    "#your code goes here\n",
    "data=requests.get(url).text"
   ]
  },
  {
   "cell_type": "code",
   "execution_count": 4,
   "id": "56856b2d-e369-4fe0-9c8b-9c43f0183780",
   "metadata": {
    "tags": []
   },
   "outputs": [
    {
     "data": {
      "text/plain": [
       "'<!doctype html>\\n<html lang=\"en\">\\n<head>\\n<title>\\nSalary survey results of programming languages\\n</title>\\n<style>\\ntable, th, td {\\n  border: 1px solid black;\\n}\\n</style>\\n</head>\\n\\n<body>\\n<hr />\\n<h2>Popular Programming Languages</h2>\\n<hr />\\n<p>Finding out which is the best language is a tough task. A programming language is created to solve a specific problem. A language which is good for task A may not be able to properly handle task B. Comparing programming language is never easy. What we can do, however, is find which is popular in the industry.</p>\\n<p>There are many ways to find the popularity of a programming languages. Counting the number of google searchs for each language is a simple way to find the popularity. GitHub and StackOverflow also can give some good pointers.</p>\\n<p>Salary surveys are a way to find out the programmings languages that are most in demand in the industry. Below table is the result of one such survey. When using any survey keep in mind that the results vary year on year.</p>\\n<hr />\\n<table>\\n<tbody>\\n<tr>\\n<td>No.</td>\\n<td>Language</td>\\n<td>Created By</td>\\n<td>Average Annual Salary</td>\\n<td>Learning Difficulty</td>\\n</tr>\\n<tr>\\n<td>1</td>\\n<td>Python</td>\\n<td>Guido van Rossum</td>\\n<td>$114,383</td>\\n<td>Easy</td>\\n</tr>\\n<tr>\\n<td>2</td>\\n<td>Java</td>\\n<td>James Gosling</td>\\n<td>$101,013</td>\\n<td>Easy</td>\\n</tr>\\n<tr>\\n<td>3</td>\\n<td>R</td>\\n<td>Robert Gentleman, Ross Ihaka</td>\\n<td>$92,037</td>\\n<td>Hard</td>\\n</tr>\\n<tr>\\n<td>4</td>\\n<td>Javascript</td>\\n<td>Netscape</td>\\n<td>$110,981</td>\\n<td>Easy</td>\\n</tr>\\n<tr>\\n<td>5</td>\\n<td>Swift</td>\\n<td>Apple</td>\\n<td>$130,801</td>\\n<td>Easy</td>\\n</tr>\\n<tr>\\n<td>6</td>\\n<td>C++</td>\\n<td>Bjarne Stroustrup</td>\\n<td>$113,865</td>\\n<td>Hard</td>\\n</tr>\\n<tr>\\n<td>7</td>\\n<td>C#</td>\\n<td>Microsoft</td>\\n<td>$88,726</td>\\n<td>Hard</td>\\n</tr>\\n<tr>\\n<td>8</td>\\n<td>PHP</td>\\n<td>Rasmus Lerdorf</td>\\n<td>$84,727</td>\\n<td>Easy</td>\\n</tr>\\n<tr>\\n<td>9</td>\\n<td>SQL</td>\\n<td>Donald D. Chamberlin, Raymond F. Boyce.</td>\\n<td>$84,793</td>\\n<td>Easy</td>\\n</tr>\\n<tr>\\n<td>10</td>\\n<td>Go</td>\\n<td>Robert Griesemer, Ken Thompson, Rob Pike.</td>\\n<td>$94,082</td>\\n<td>Difficult</td>\\n</tr>\\n</tbody>\\n</table>\\n<hr />\\n</body>\\n</html>'"
      ]
     },
     "execution_count": 4,
     "metadata": {},
     "output_type": "execute_result"
    }
   ],
   "source": [
    "data"
   ]
  },
  {
   "cell_type": "code",
   "execution_count": 5,
   "id": "e54f6cb0-0fff-4142-91b0-6b0018579df0",
   "metadata": {
    "tags": []
   },
   "outputs": [],
   "source": [
    "#your code goes here\n",
    "soup = BeautifulSoup(data,\"lxml\") "
   ]
  },
  {
   "cell_type": "code",
   "execution_count": 6,
   "id": "9ee7e7ab-61ab-4256-ada7-f952c3b84cc8",
   "metadata": {
    "tags": []
   },
   "outputs": [
    {
     "data": {
      "text/plain": [
       "<!DOCTYPE html>\n",
       "<html lang=\"en\">\n",
       "<head>\n",
       "<title>\n",
       "Salary survey results of programming languages\n",
       "</title>\n",
       "<style>\n",
       "table, th, td {\n",
       "  border: 1px solid black;\n",
       "}\n",
       "</style>\n",
       "</head>\n",
       "<body>\n",
       "<hr/>\n",
       "<h2>Popular Programming Languages</h2>\n",
       "<hr/>\n",
       "<p>Finding out which is the best language is a tough task. A programming language is created to solve a specific problem. A language which is good for task A may not be able to properly handle task B. Comparing programming language is never easy. What we can do, however, is find which is popular in the industry.</p>\n",
       "<p>There are many ways to find the popularity of a programming languages. Counting the number of google searchs for each language is a simple way to find the popularity. GitHub and StackOverflow also can give some good pointers.</p>\n",
       "<p>Salary surveys are a way to find out the programmings languages that are most in demand in the industry. Below table is the result of one such survey. When using any survey keep in mind that the results vary year on year.</p>\n",
       "<hr/>\n",
       "<table>\n",
       "<tbody>\n",
       "<tr>\n",
       "<td>No.</td>\n",
       "<td>Language</td>\n",
       "<td>Created By</td>\n",
       "<td>Average Annual Salary</td>\n",
       "<td>Learning Difficulty</td>\n",
       "</tr>\n",
       "<tr>\n",
       "<td>1</td>\n",
       "<td>Python</td>\n",
       "<td>Guido van Rossum</td>\n",
       "<td>$114,383</td>\n",
       "<td>Easy</td>\n",
       "</tr>\n",
       "<tr>\n",
       "<td>2</td>\n",
       "<td>Java</td>\n",
       "<td>James Gosling</td>\n",
       "<td>$101,013</td>\n",
       "<td>Easy</td>\n",
       "</tr>\n",
       "<tr>\n",
       "<td>3</td>\n",
       "<td>R</td>\n",
       "<td>Robert Gentleman, Ross Ihaka</td>\n",
       "<td>$92,037</td>\n",
       "<td>Hard</td>\n",
       "</tr>\n",
       "<tr>\n",
       "<td>4</td>\n",
       "<td>Javascript</td>\n",
       "<td>Netscape</td>\n",
       "<td>$110,981</td>\n",
       "<td>Easy</td>\n",
       "</tr>\n",
       "<tr>\n",
       "<td>5</td>\n",
       "<td>Swift</td>\n",
       "<td>Apple</td>\n",
       "<td>$130,801</td>\n",
       "<td>Easy</td>\n",
       "</tr>\n",
       "<tr>\n",
       "<td>6</td>\n",
       "<td>C++</td>\n",
       "<td>Bjarne Stroustrup</td>\n",
       "<td>$113,865</td>\n",
       "<td>Hard</td>\n",
       "</tr>\n",
       "<tr>\n",
       "<td>7</td>\n",
       "<td>C#</td>\n",
       "<td>Microsoft</td>\n",
       "<td>$88,726</td>\n",
       "<td>Hard</td>\n",
       "</tr>\n",
       "<tr>\n",
       "<td>8</td>\n",
       "<td>PHP</td>\n",
       "<td>Rasmus Lerdorf</td>\n",
       "<td>$84,727</td>\n",
       "<td>Easy</td>\n",
       "</tr>\n",
       "<tr>\n",
       "<td>9</td>\n",
       "<td>SQL</td>\n",
       "<td>Donald D. Chamberlin, Raymond F. Boyce.</td>\n",
       "<td>$84,793</td>\n",
       "<td>Easy</td>\n",
       "</tr>\n",
       "<tr>\n",
       "<td>10</td>\n",
       "<td>Go</td>\n",
       "<td>Robert Griesemer, Ken Thompson, Rob Pike.</td>\n",
       "<td>$94,082</td>\n",
       "<td>Difficult</td>\n",
       "</tr>\n",
       "</tbody>\n",
       "</table>\n",
       "<hr/>\n",
       "</body>\n",
       "</html>"
      ]
     },
     "execution_count": 6,
     "metadata": {},
     "output_type": "execute_result"
    }
   ],
   "source": [
    "soup"
   ]
  },
  {
   "cell_type": "code",
   "execution_count": 9,
   "id": "c1820a56-39b5-4d52-af74-1de794774b1d",
   "metadata": {
    "tags": []
   },
   "outputs": [],
   "source": [
    "data_list=list()\n",
    "skip_first_tr=True\n",
    "for row in soup.find_all('tr'):\n",
    "        cols=row.find_all('td')\n",
    "        data=list((cols[1].text,cols[3].text))\n",
    "        data_list.append(data)"
   ]
  },
  {
   "cell_type": "code",
   "execution_count": 11,
   "id": "73646287-7298-415d-a4bd-0fd583981874",
   "metadata": {
    "tags": []
   },
   "outputs": [],
   "source": [
    "# your code goes here\n",
    "import csv\n",
    "csv_path = \"popular-languages2.csv\"\n",
    "\n",
    "with open(csv_path, \"a\") as file:  # Open in append mode ('a')\n",
    "    writer = csv.writer(file)\n",
    "    \n",
    "    # Append the data to the CSV file\n",
    "    for row in data_list:\n",
    "        writer.writerow(row)"
   ]
  },
  {
   "cell_type": "code",
   "execution_count": null,
   "id": "111ec4e2-19d0-4c85-9b1e-013945b57c99",
   "metadata": {},
   "outputs": [],
   "source": []
  }
 ],
 "metadata": {
  "kernelspec": {
   "display_name": "Python 3 (ipykernel)",
   "language": "python",
   "name": "python3"
  },
  "language_info": {
   "codemirror_mode": {
    "name": "ipython",
    "version": 3
   },
   "file_extension": ".py",
   "mimetype": "text/x-python",
   "name": "python",
   "nbconvert_exporter": "python",
   "pygments_lexer": "ipython3",
   "version": "3.11.5"
  }
 },
 "nbformat": 4,
 "nbformat_minor": 5
}
