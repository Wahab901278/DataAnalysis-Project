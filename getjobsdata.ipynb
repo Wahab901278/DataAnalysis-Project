{
 "cells": [
  {
   "cell_type": "code",
   "execution_count": 1,
   "id": "6b34fd03",
   "metadata": {},
   "outputs": [],
   "source": [
    "import requests # you need this module to make an API call\n",
    "import pandas as pd"
   ]
  },
  {
   "cell_type": "code",
   "execution_count": 2,
   "id": "b5c8150b",
   "metadata": {},
   "outputs": [],
   "source": [
    "api_url = \"http://api.open-notify.org/astros.json\""
   ]
  },
  {
   "cell_type": "code",
   "execution_count": 3,
   "id": "d3974ecd",
   "metadata": {},
   "outputs": [],
   "source": [
    "response = requests.get(api_url) "
   ]
  },
  {
   "cell_type": "code",
   "execution_count": 4,
   "id": "96830c83",
   "metadata": {},
   "outputs": [],
   "source": [
    "if response.ok:            \n",
    "    data = response.json()  "
   ]
  },
  {
   "cell_type": "code",
   "execution_count": 5,
   "id": "708db25b",
   "metadata": {},
   "outputs": [
    {
     "name": "stdout",
     "output_type": "stream",
     "text": [
      "{'message': 'success', 'people': [{'name': 'Jasmin Moghbeli', 'craft': 'ISS'}, {'name': 'Andreas Mogensen', 'craft': 'ISS'}, {'name': 'Satoshi Furukawa', 'craft': 'ISS'}, {'name': 'Konstantin Borisov', 'craft': 'ISS'}, {'name': 'Oleg Kononenko', 'craft': 'ISS'}, {'name': 'Nikolai Chub', 'craft': 'ISS'}, {'name': \"Loral O'Hara\", 'craft': 'ISS'}], 'number': 7}\n"
     ]
    }
   ],
   "source": [
    "print(data)  "
   ]
  },
  {
   "cell_type": "code",
   "execution_count": 6,
   "id": "d2b7abe3",
   "metadata": {},
   "outputs": [
    {
     "name": "stdout",
     "output_type": "stream",
     "text": [
      "7\n"
     ]
    }
   ],
   "source": [
    "print(data.get('number'))"
   ]
  },
  {
   "cell_type": "code",
   "execution_count": 7,
   "id": "aa3d1a09",
   "metadata": {},
   "outputs": [
    {
     "name": "stdout",
     "output_type": "stream",
     "text": [
      "There are 7 astronauts on ISS\n",
      "And their names are :\n",
      "Jasmin Moghbeli\n",
      "Andreas Mogensen\n",
      "Satoshi Furukawa\n",
      "Konstantin Borisov\n",
      "Oleg Kononenko\n",
      "Nikolai Chub\n",
      "Loral O'Hara\n"
     ]
    }
   ],
   "source": [
    "astronauts = data.get('people')\n",
    "print(\"There are {} astronauts on ISS\".format(len(astronauts)))\n",
    "print(\"And their names are :\")\n",
    "for astronaut in astronauts:\n",
    "    print(astronaut.get('name'))"
   ]
  },
  {
   "cell_type": "code",
   "execution_count": 8,
   "id": "f747724b",
   "metadata": {},
   "outputs": [
    {
     "name": "stdout",
     "output_type": "stream",
     "text": [
      "[{'name': 'Jasmin Moghbeli', 'craft': 'ISS'}, {'name': 'Andreas Mogensen', 'craft': 'ISS'}, {'name': 'Satoshi Furukawa', 'craft': 'ISS'}, {'name': 'Konstantin Borisov', 'craft': 'ISS'}, {'name': 'Oleg Kononenko', 'craft': 'ISS'}, {'name': 'Nikolai Chub', 'craft': 'ISS'}, {'name': \"Loral O'Hara\", 'craft': 'ISS'}]\n"
     ]
    }
   ],
   "source": [
    "print(astronauts)"
   ]
  },
  {
   "cell_type": "code",
   "execution_count": 9,
   "id": "171bf277",
   "metadata": {},
   "outputs": [],
   "source": [
    "#Import required libraries\n",
    "import pandas as pd\n",
    "import json"
   ]
  },
  {
   "cell_type": "code",
   "execution_count": 10,
   "id": "bbdaa113",
   "metadata": {},
   "outputs": [],
   "source": [
    "api_url=\"https://cf-courses-data.s3.us.cloud-object-storage.appdomain.cloud/IBM-DA0321EN-SkillsNetwork/labs/module%201/Accessing%20Data%20Using%20APIs/jobs.json\"\n",
    "response=requests.get(api_url)\n",
    "list=response.json()\n",
    "def get_number_of_jobs_T(technology):\n",
    "    if response.status_code==200:\n",
    "        number_of_jobs=0\n",
    "        for dictionary in list:\n",
    "            if technology.lower() in dictionary['Key Skills'].lower():\n",
    "                number_of_jobs=number_of_jobs + 1\n",
    "    else:\n",
    "        return -1\n",
    "   \n",
    "    return technology,number_of_jobs"
   ]
  },
  {
   "cell_type": "code",
   "execution_count": 27,
   "id": "b3fc4e7b",
   "metadata": {},
   "outputs": [],
   "source": [
    "api_url=\"https://cf-courses-data.s3.us.cloud-object-storage.appdomain.cloud/IBM-DA0321EN-SkillsNetwork/labs/module%201/Accessing%20Data%20Using%20APIs/jobs.json\"\n",
    "response=requests.get(api_url)\n",
    "list=response.json()\n",
    "def get_number_of_jobs_L(location):\n",
    "    if response.status_code==200:\n",
    "        number_of_jobs=0\n",
    "        for dictionary in list:\n",
    "            if location.lower() in dictionary['Location'].lower():\n",
    "                number_of_jobs=number_of_jobs + 1\n",
    "            \n",
    "    else:\n",
    "        print(\"-1\")\n",
    "    \n",
    "    return location,number_of_jobs"
   ]
  },
  {
   "cell_type": "code",
   "execution_count": 28,
   "id": "63940c25",
   "metadata": {},
   "outputs": [
    {
     "data": {
      "text/plain": [
       "('Project management', 827)"
      ]
     },
     "execution_count": 28,
     "metadata": {},
     "output_type": "execute_result"
    }
   ],
   "source": [
    "get_number_of_jobs_T(\"Project management\")"
   ]
  },
  {
   "cell_type": "code",
   "execution_count": 29,
   "id": "891f11cf",
   "metadata": {},
   "outputs": [
    {
     "name": "stdout",
     "output_type": "stream",
     "text": [
      "CPU times: user 8.47 ms, sys: 3.28 ms, total: 11.7 ms\n",
      "Wall time: 11.6 ms\n"
     ]
    }
   ],
   "source": [
    "# definitely going to optimize this code later on !!\n",
    "%time C=get_number_of_jobs_L(\"Los Angeles\")"
   ]
  },
  {
   "cell_type": "code",
   "execution_count": 14,
   "id": "fda0b7fb",
   "metadata": {},
   "outputs": [
    {
     "data": {
      "text/plain": [
       "'\\nfrom openpyxl import Workbook        # import Workbook class from module openpyxl\\nwb=Workbook()                        # create a workbook object\\nws=wb.active                         # use the active worksheet\\nws.append([\\'Country\\',\\'Continent\\'])   # add a row with two columns \\'Country\\' and \\'Continent\\'\\nws.append([\\'Eygpt\\',\\'Africa\\'])        # add a row with two columns \\'Egypt\\' and \\'Africa\\'\\nws.append([\\'India\\',\\'Asia\\'])          # add another row\\nws.append([\\'France\\',\\'Europe\\'])       # add another row\\nwb.save(\"countries.xlsx\")            # save the workbook into a file called countries.xlsx\\n\\n\\n'"
      ]
     },
     "execution_count": 14,
     "metadata": {},
     "output_type": "execute_result"
    }
   ],
   "source": [
    "\n",
    "\"\"\"\n",
    "from openpyxl import Workbook        # import Workbook class from module openpyxl\n",
    "wb=Workbook()                        # create a workbook object\n",
    "ws=wb.active                         # use the active worksheet\n",
    "ws.append(['Country','Continent'])   # add a row with two columns 'Country' and 'Continent'\n",
    "ws.append(['Eygpt','Africa'])        # add a row with two columns 'Egypt' and 'Africa'\n",
    "ws.append(['India','Asia'])          # add another row\n",
    "ws.append(['France','Europe'])       # add another row\n",
    "wb.save(\"countries.xlsx\")            # save the workbook into a file called countries.xlsx\n",
    "\n",
    "\n",
    "\"\"\""
   ]
  },
  {
   "cell_type": "code",
   "execution_count": 15,
   "id": "892656c6",
   "metadata": {},
   "outputs": [],
   "source": [
    "set_of_locations=set()\n",
    "api_url=\"https://cf-courses-data.s3.us.cloud-object-storage.appdomain.cloud/IBM-DA0321EN-SkillsNetwork/labs/module%201/Accessing%20Data%20Using%20APIs/jobs.json\"\n",
    "response=requests.get(api_url)\n",
    "list1=response.json()\n",
    "for dictionary in list1:\n",
    "    set_of_locations.add(dictionary[\"Location\"])"
   ]
  },
  {
   "cell_type": "code",
   "execution_count": 22,
   "id": "06e17444",
   "metadata": {},
   "outputs": [
    {
     "name": "stdout",
     "output_type": "stream",
     "text": [
      "('New Orleons', 817)\n",
      "('Houston', 3339)\n",
      "('Dallas', 1208)\n",
      "('New York', 3226)\n",
      "('Seattle', 3375)\n",
      "('Washington DC', 5316)\n",
      "('Los Angeles', 640)\n",
      "('San Francisco', 435)\n",
      "('Philadelphia', 41)\n",
      "('Boston', 2966)\n",
      "('Austin', 434)\n",
      "('Detroit', 3945)\n",
      "('Baltimore', 1263)\n"
     ]
    }
   ],
   "source": [
    "for i in set_of_locations:\n",
    "    print(get_number_of_jobs_L(i))"
   ]
  },
  {
   "cell_type": "code",
   "execution_count": null,
   "id": "334d7cca",
   "metadata": {},
   "outputs": [],
   "source": [
    "# your code goes here\n",
    "from openpyxl import Workbook        # import Workbook class from module openpyxl\n"
   ]
  },
  {
   "cell_type": "code",
   "execution_count": null,
   "id": "16f088e2",
   "metadata": {},
   "outputs": [],
   "source": [
    "# your code goes here\n",
    "wb=Workbook()\n",
    "ws=wb.active"
   ]
  },
  {
   "cell_type": "code",
   "execution_count": null,
   "id": "7b0b466a",
   "metadata": {},
   "outputs": [],
   "source": [
    "#your code goes here\n",
    "ws.append(['Location','No of Jobs'])\n",
    "for i in set_of_locations:\n",
    "    ws.append(list(get_number_of_jobs_L(i)))\n",
    "\n"
   ]
  },
  {
   "cell_type": "code",
   "execution_count": null,
   "id": "25291d2b",
   "metadata": {},
   "outputs": [],
   "source": [
    "#your code goes here\n",
    "wb.save(\"job-postings.xlsx\")"
   ]
  },
  {
   "cell_type": "code",
   "execution_count": null,
   "id": "ec289246",
   "metadata": {},
   "outputs": [],
   "source": [
    "new_wb=Workbook()\n",
    "ws=new_wb.active\n"
   ]
  },
  {
   "cell_type": "code",
   "execution_count": null,
   "id": "f510f064",
   "metadata": {},
   "outputs": [],
   "source": [
    "# your code goes here\n",
    "skills=['C',\n",
    "'C#',\n",
    "'C++',\n",
    "'Java',\n",
    "'JavaScript',\n",
    "'Python',\n",
    "'Scala',\n",
    "'Oracle',\n",
    "'SQL Server',\n",
    "'MySQL Server',\n",
    "'PostgreSQL',\n",
    "'MongoDB']\n",
    "ws.append(['skill','no of jobs'])\n",
    "for skill in skills:\n",
    "    ws.append(list(get_number_of_jobs_T(skill)))"
   ]
  },
  {
   "cell_type": "code",
   "execution_count": null,
   "id": "d040ecca",
   "metadata": {},
   "outputs": [],
   "source": [
    "wb.save(\"skills.xlsx\")"
   ]
  },
  {
   "cell_type": "code",
   "execution_count": null,
   "id": "8ed6fae5",
   "metadata": {},
   "outputs": [],
   "source": []
  }
 ],
 "metadata": {
  "kernelspec": {
   "display_name": "Python 3 (ipykernel)",
   "language": "python",
   "name": "python3"
  },
  "language_info": {
   "codemirror_mode": {
    "name": "ipython",
    "version": 3
   },
   "file_extension": ".py",
   "mimetype": "text/x-python",
   "name": "python",
   "nbconvert_exporter": "python",
   "pygments_lexer": "ipython3",
   "version": "3.11.5"
  }
 },
 "nbformat": 4,
 "nbformat_minor": 5
}
